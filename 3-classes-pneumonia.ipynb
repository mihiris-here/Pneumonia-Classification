{
 "cells": [
  {
   "cell_type": "code",
   "execution_count": 1,
   "id": "147c8fbb",
   "metadata": {
    "_cell_guid": "b1076dfc-b9ad-4769-8c92-a6c4dae69d19",
    "_uuid": "8f2839f25d086af736a60e9eeb907d3b93b6e0e5",
    "execution": {
     "iopub.execute_input": "2023-04-20T21:58:12.896096Z",
     "iopub.status.busy": "2023-04-20T21:58:12.895582Z",
     "iopub.status.idle": "2023-04-20T21:58:27.150485Z",
     "shell.execute_reply": "2023-04-20T21:58:27.149239Z"
    },
    "papermill": {
     "duration": 14.27118,
     "end_time": "2023-04-20T21:58:27.153550",
     "exception": false,
     "start_time": "2023-04-20T21:58:12.882370",
     "status": "completed"
    },
    "tags": []
   },
   "outputs": [],
   "source": [
    "# This Python 3 environment comes with many helpful analytics libraries installed\n",
    "# It is defined by the kaggle/python Docker image: https://github.com/kaggle/docker-python\n",
    "# For example, here's several helpful packages to load\n",
    "\n",
    "import numpy as np # linear algebra\n",
    "import pandas as pd # data processing, CSV file I/O (e.g. pd.read_csv)\n",
    "\n",
    "# Input data files are available in the read-only \"../input/\" directory\n",
    "# For example, running this (by clicking run or pressing Shift+Enter) will list all files under the input directory\n",
    "\n",
    "import os\n",
    "\n",
    "allfiles = []\n",
    "\n",
    "for dirname, _, filenames in os.walk('/kaggle/input'):\n",
    "    for filename in filenames:\n",
    "        allfiles.append(os.path.join(dirname, filename))\n",
    "\n",
    "# You can write up to 20GB to the current directory (/kaggle/working/) that gets preserved as output when you create a version using \"Save & Run All\" \n",
    "# You can also write temporary files to /kaggle/temp/, but they won't be saved outside of the current session"
   ]
  },
  {
   "cell_type": "code",
   "execution_count": 2,
   "id": "816af578",
   "metadata": {
    "execution": {
     "iopub.execute_input": "2023-04-20T21:58:27.164694Z",
     "iopub.status.busy": "2023-04-20T21:58:27.163623Z",
     "iopub.status.idle": "2023-04-20T21:58:40.042474Z",
     "shell.execute_reply": "2023-04-20T21:58:40.041274Z"
    },
    "papermill": {
     "duration": 12.887336,
     "end_time": "2023-04-20T21:58:40.045536",
     "exception": false,
     "start_time": "2023-04-20T21:58:27.158200",
     "status": "completed"
    },
    "tags": []
   },
   "outputs": [
    {
     "name": "stdout",
     "output_type": "stream",
     "text": [
      "Collecting monai\r\n",
      "  Downloading monai-1.1.0-202212191849-py3-none-any.whl (1.2 MB)\r\n",
      "\u001b[2K     \u001b[90m━━━━━━━━━━━━━━━━━━━━━━━━━━━━━━━━━━━━━━━━\u001b[0m \u001b[32m1.2/1.2 MB\u001b[0m \u001b[31m17.5 MB/s\u001b[0m eta \u001b[36m0:00:00\u001b[0m\r\n",
      "\u001b[?25hRequirement already satisfied: torch>=1.8 in /opt/conda/lib/python3.7/site-packages (from monai) (1.13.0)\r\n",
      "Requirement already satisfied: numpy>=1.17 in /opt/conda/lib/python3.7/site-packages (from monai) (1.21.6)\r\n",
      "Requirement already satisfied: typing-extensions in /opt/conda/lib/python3.7/site-packages (from torch>=1.8->monai) (4.4.0)\r\n",
      "Installing collected packages: monai\r\n",
      "Successfully installed monai-1.1.0\r\n",
      "\u001b[33mWARNING: Running pip as the 'root' user can result in broken permissions and conflicting behaviour with the system package manager. It is recommended to use a virtual environment instead: https://pip.pypa.io/warnings/venv\u001b[0m\u001b[33m\r\n",
      "\u001b[0m"
     ]
    }
   ],
   "source": [
    "!pip install monai"
   ]
  },
  {
   "cell_type": "code",
   "execution_count": 3,
   "id": "f7f00ba7",
   "metadata": {
    "execution": {
     "iopub.execute_input": "2023-04-20T21:58:40.056095Z",
     "iopub.status.busy": "2023-04-20T21:58:40.055745Z",
     "iopub.status.idle": "2023-04-20T21:58:40.072686Z",
     "shell.execute_reply": "2023-04-20T21:58:40.071252Z"
    },
    "papermill": {
     "duration": 0.024732,
     "end_time": "2023-04-20T21:58:40.074935",
     "exception": false,
     "start_time": "2023-04-20T21:58:40.050203",
     "status": "completed"
    },
    "tags": []
   },
   "outputs": [
    {
     "name": "stdout",
     "output_type": "stream",
     "text": [
      "7366 8286 9208\n",
      "/kaggle/input/3-kinds-of-pneumonia/Curated X-Ray Dataset/Pneumonia-Viral/Pneumonia-Viral (1185).jpg\n"
     ]
    }
   ],
   "source": [
    "import random\n",
    "\n",
    "trainind = int(.8*len(allfiles))\n",
    "valind = int(trainind + .1*len(allfiles))\n",
    "\n",
    "print(trainind, valind, len(allfiles))\n",
    "\n",
    "random.shuffle(allfiles)\n",
    "\n",
    "trainset = allfiles[:trainind]\n",
    "valset = allfiles[trainind:valind]\n",
    "testset = allfiles[trainind:valind]\n",
    "\n",
    "print(trainset[0])"
   ]
  },
  {
   "cell_type": "code",
   "execution_count": 4,
   "id": "1ecc79b1",
   "metadata": {
    "execution": {
     "iopub.execute_input": "2023-04-20T21:58:40.085050Z",
     "iopub.status.busy": "2023-04-20T21:58:40.084192Z",
     "iopub.status.idle": "2023-04-20T21:58:44.954212Z",
     "shell.execute_reply": "2023-04-20T21:58:44.953068Z"
    },
    "papermill": {
     "duration": 4.878074,
     "end_time": "2023-04-20T21:58:44.957183",
     "exception": false,
     "start_time": "2023-04-20T21:58:40.079109",
     "status": "completed"
    },
    "tags": []
   },
   "outputs": [],
   "source": [
    "import torchvision.transforms as transforms"
   ]
  },
  {
   "cell_type": "code",
   "execution_count": 5,
   "id": "842014c6",
   "metadata": {
    "execution": {
     "iopub.execute_input": "2023-04-20T21:58:44.969627Z",
     "iopub.status.busy": "2023-04-20T21:58:44.968862Z",
     "iopub.status.idle": "2023-04-20T21:58:44.981250Z",
     "shell.execute_reply": "2023-04-20T21:58:44.980097Z"
    },
    "papermill": {
     "duration": 0.020675,
     "end_time": "2023-04-20T21:58:44.983512",
     "exception": false,
     "start_time": "2023-04-20T21:58:44.962837",
     "status": "completed"
    },
    "tags": []
   },
   "outputs": [],
   "source": [
    "from PIL import Image\n",
    "import torch\n",
    "import torch.utils.data.dataset\n",
    "\n",
    "img_size = (224,224)\n",
    "batch_size = 8\n",
    "max_epochs = 10\n",
    "device = 'cuda'\n",
    "\"\"\"\n",
    "user configuration\n",
    "\"\"\"\n",
    "\n",
    "train_trans = transforms.Compose([\n",
    "    transforms.ToTensor(),\n",
    "    transforms.Resize(size = img_size),\n",
    "#     transforms.Normalize([0.485,0.456,0.406],[0.229,0.224,0.225])\n",
    "])\n",
    "\n",
    "class TargetTran:\n",
    "    def __init__(self):\n",
    "        self.cat = {\n",
    "            'COVID-19':0,\n",
    "            'Normal': 1,\n",
    "            'Pneumonia-Bacterial': 2,\n",
    "            'Pneumonia-Viral': 3\n",
    "        }\n",
    "    def __call__(self, x):\n",
    "        \"\"\"\n",
    "        x is the path for the image. the path has information about the label\n",
    "        \"\"\"\n",
    "        class_str = x.split('/')[-2]\n",
    "        return self.cat[class_str]\n",
    "\n",
    "class CustomDataset:\n",
    "    def __init__(self, pathlist, transformation = None, targettrans = None):\n",
    "        \"\"\"\n",
    "        transformation: this converts from file path to image tensor\n",
    "        targettrans: this converts from file path to label\n",
    "        \"\"\"\n",
    "        self.pathlist = pathlist\n",
    "        self.transformation = transformation\n",
    "        self.targettrans = targettrans\n",
    "        \n",
    "    def __len__(self):\n",
    "        return len(self.pathlist)\n",
    "    \n",
    "    def __getitem__(self,idx):\n",
    "        path = self.pathlist[idx]\n",
    "        image_pil = Image.open(path).convert('RGB')\n",
    "        image = self.transformation(image_pil)\n",
    "        class_ = self.targettrans(path)\n",
    "        return image, class_"
   ]
  },
  {
   "cell_type": "code",
   "execution_count": 6,
   "id": "0b4a7857",
   "metadata": {
    "execution": {
     "iopub.execute_input": "2023-04-20T21:58:44.994875Z",
     "iopub.status.busy": "2023-04-20T21:58:44.993762Z",
     "iopub.status.idle": "2023-04-20T21:58:44.999746Z",
     "shell.execute_reply": "2023-04-20T21:58:44.998778Z"
    },
    "papermill": {
     "duration": 0.014221,
     "end_time": "2023-04-20T21:58:45.002106",
     "exception": false,
     "start_time": "2023-04-20T21:58:44.987885",
     "status": "completed"
    },
    "tags": []
   },
   "outputs": [],
   "source": [
    "# # TEST CASES\n",
    "target_trans = TargetTran() # we need to make a actual class and parse to the function.\n",
    "# train_ds = CustomDataset(trainset, train_trans, target_trans)\n",
    "\n",
    "import tqdm\n",
    "# list_labels = []\n",
    "# list_shape = []\n",
    "# for d in tqdm.tqdm(train_ds):\n",
    "#     list_shape.append(d[0].shape)\n",
    "#     list_labels.append(d[1])\n",
    "    \n",
    "# print(set([str(shape) for shape in list_shape]))\n",
    "# pd.value_counts(list_labels)\n",
    "\n",
    "## This works properly"
   ]
  },
  {
   "cell_type": "code",
   "execution_count": 7,
   "id": "14a4d6c8",
   "metadata": {
    "execution": {
     "iopub.execute_input": "2023-04-20T21:58:45.013215Z",
     "iopub.status.busy": "2023-04-20T21:58:45.012205Z",
     "iopub.status.idle": "2023-04-20T21:58:45.019546Z",
     "shell.execute_reply": "2023-04-20T21:58:45.018500Z"
    },
    "papermill": {
     "duration": 0.015296,
     "end_time": "2023-04-20T21:58:45.021939",
     "exception": false,
     "start_time": "2023-04-20T21:58:45.006643",
     "status": "completed"
    },
    "tags": []
   },
   "outputs": [],
   "source": [
    "train_ds = CustomDataset(trainset, train_trans, target_trans)\n",
    "#val_ds = CustomDataset(valset, train_trans, target_trans)\n",
    "test_ds = CustomDataset(testset, train_trans, target_trans)\n",
    "\n",
    "dataloaders = {\n",
    "    'train': torch.utils.data.DataLoader(train_ds, batch_size = 8, num_workers = 2, shuffle = True),\n",
    "    #'val': torch.utils.data.DataLoader(val_ds, batch_size = 8, num_workers = 2, shuffle = False),\n",
    "    'test': torch.utils.data.DataLoader(test_ds, batch_size = 8, num_workers = 2, shuffle = False),\n",
    "}"
   ]
  },
  {
   "cell_type": "code",
   "execution_count": 8,
   "id": "0cfe4860",
   "metadata": {
    "execution": {
     "iopub.execute_input": "2023-04-20T21:58:45.032786Z",
     "iopub.status.busy": "2023-04-20T21:58:45.032132Z",
     "iopub.status.idle": "2023-04-20T21:58:45.037092Z",
     "shell.execute_reply": "2023-04-20T21:58:45.036070Z"
    },
    "papermill": {
     "duration": 0.01287,
     "end_time": "2023-04-20T21:58:45.039450",
     "exception": false,
     "start_time": "2023-04-20T21:58:45.026580",
     "status": "completed"
    },
    "tags": []
   },
   "outputs": [],
   "source": [
    "# TEST CASES\n"
   ]
  },
  {
   "cell_type": "code",
   "execution_count": 9,
   "id": "467103a8",
   "metadata": {
    "execution": {
     "iopub.execute_input": "2023-04-20T21:58:45.050547Z",
     "iopub.status.busy": "2023-04-20T21:58:45.049937Z",
     "iopub.status.idle": "2023-04-20T21:58:50.032137Z",
     "shell.execute_reply": "2023-04-20T21:58:50.030974Z"
    },
    "papermill": {
     "duration": 4.990529,
     "end_time": "2023-04-20T21:58:50.034870",
     "exception": false,
     "start_time": "2023-04-20T21:58:45.044341",
     "status": "completed"
    },
    "tags": []
   },
   "outputs": [
    {
     "name": "stderr",
     "output_type": "stream",
     "text": [
      "Downloading: \"https://download.pytorch.org/models/vgg16-397923af.pth\" to /root/.cache/torch/hub/checkpoints/vgg16-397923af.pth\n"
     ]
    },
    {
     "data": {
      "application/vnd.jupyter.widget-view+json": {
       "model_id": "ad3ba5e9b0374906bd94c2c54c0448d4",
       "version_major": 2,
       "version_minor": 0
      },
      "text/plain": [
       "  0%|          | 0.00/528M [00:00<?, ?B/s]"
      ]
     },
     "metadata": {},
     "output_type": "display_data"
    }
   ],
   "source": [
    "# Using pretrained model\n",
    "import torchvision\n",
    "\n",
    "net = torchvision.models.vgg16(weights=torchvision.models.VGG16_Weights.DEFAULT)"
   ]
  },
  {
   "cell_type": "code",
   "execution_count": 10,
   "id": "3b333645",
   "metadata": {
    "execution": {
     "iopub.execute_input": "2023-04-20T21:58:50.049114Z",
     "iopub.status.busy": "2023-04-20T21:58:50.048771Z",
     "iopub.status.idle": "2023-04-20T21:59:08.337564Z",
     "shell.execute_reply": "2023-04-20T21:59:08.336074Z"
    },
    "papermill": {
     "duration": 18.297391,
     "end_time": "2023-04-20T21:59:08.340120",
     "exception": false,
     "start_time": "2023-04-20T21:58:50.042729",
     "status": "completed"
    },
    "tags": []
   },
   "outputs": [
    {
     "name": "stdout",
     "output_type": "stream",
     "text": [
      "torch.Size([8, 512, 7, 7]) torch.Size([8, 1000])\n",
      "torch.Size([8, 512, 7, 7]) torch.Size([8, 4])\n"
     ]
    }
   ],
   "source": [
    "# TEST CASES\n",
    "\n",
    "import torch.nn as nn\n",
    "\n",
    "\n",
    "x = next(iter(dataloaders['train']))[0]\n",
    "features = net.features(x)\n",
    "out = net(x)\n",
    "print(features.shape, out.shape)\n",
    "\n",
    "# Define new classifier\n",
    "net.classifier = nn.Sequential(\n",
    "    nn.Linear(in_features=25088, out_features=4096, bias=True),\n",
    "    nn.ReLU(inplace=True),\n",
    "    nn.Dropout(p=0.5, inplace=False),\n",
    "    nn.Linear(in_features=4096, out_features=4096, bias=True),\n",
    "    nn.ReLU(inplace=True),\n",
    "    nn.Dropout(p=0.5, inplace=False),\n",
    "    nn.Linear(in_features=4096, out_features=1000, bias=True),\n",
    "    nn.ReLU(inplace = True),\n",
    "    nn.Dropout(p = 0.5, inplace = False),\n",
    "    nn.Linear(in_features=1000, out_features = 4, bias = True)\n",
    ")\n",
    "\n",
    "# TEST CASESlist_pred.extend(torch.argmax(out, dim = 1).cpu().detach().numpy().tolist())\n",
    "#         list_real.extend(label.cpu().detach().numpy().tolist())\n",
    "x = next(iter(dataloaders['train']))[0]\n",
    "features = net.features(x)\n",
    "out = net(x)\n",
    "print(features.shape, out.shape)"
   ]
  },
  {
   "cell_type": "code",
   "execution_count": 11,
   "id": "b8270cc5",
   "metadata": {
    "execution": {
     "iopub.execute_input": "2023-04-20T21:59:08.352308Z",
     "iopub.status.busy": "2023-04-20T21:59:08.351222Z",
     "iopub.status.idle": "2023-04-20T21:59:16.106537Z",
     "shell.execute_reply": "2023-04-20T21:59:16.105386Z"
    },
    "papermill": {
     "duration": 7.764867,
     "end_time": "2023-04-20T21:59:16.109985",
     "exception": false,
     "start_time": "2023-04-20T21:59:08.345118",
     "status": "completed"
    },
    "tags": []
   },
   "outputs": [],
   "source": [
    "# Using pretrained model\n",
    "import torchvision\n",
    "\n",
    "net = torchvision.models.vgg16(weights=torchvision.models.VGG16_Weights.DEFAULT)\n",
    "\n",
    "net.classifier = nn.Sequential(\n",
    "    nn.Linear(in_features=25088, out_features=4096, bias=True),\n",
    "    nn.ReLU(inplace=True),\n",
    "    nn.Dropout(p=0.5, inplace=False),\n",
    "    nn.Linear(in_features=4096, out_features=4096, bias=True),\n",
    "    nn.ReLU(inplace=True),\n",
    "    nn.Dropout(p=0.5, inplace=False),\n",
    "    nn.Linear(in_features=4096, out_features=1000, bias=True),\n",
    "    nn.ReLU(inplace = True),\n",
    "    nn.Dropout(p = 0.5, inplace = False),\n",
    "    nn.Linear(in_features=1000, out_features = 4, bias = True)\n",
    ")\n",
    "net.to(device)\n",
    "net.train()\n",
    "for p in net.parameters():\n",
    "    p.requires_grad = True\n",
    "optimizer = torch.optim.Adam(net.parameters(), lr = 0.0001)\n",
    "\n",
    "loss_fn = nn.CrossEntropyLoss()"
   ]
  },
  {
   "cell_type": "code",
   "execution_count": 12,
   "id": "db640318",
   "metadata": {
    "execution": {
     "iopub.execute_input": "2023-04-20T21:59:16.120821Z",
     "iopub.status.busy": "2023-04-20T21:59:16.120507Z",
     "iopub.status.idle": "2023-04-20T22:45:27.046023Z",
     "shell.execute_reply": "2023-04-20T22:45:27.044643Z"
    },
    "papermill": {
     "duration": 2770.934046,
     "end_time": "2023-04-20T22:45:27.048835",
     "exception": false,
     "start_time": "2023-04-20T21:59:16.114789",
     "status": "completed"
    },
    "tags": []
   },
   "outputs": [
    {
     "name": "stderr",
     "output_type": "stream",
     "text": [
      "Train (1/10): 100%|██████████| 921/921 [05:17<00:00,  2.90it/s, loss=0.53, train_acc=0.78]\n",
      "Train (2/10): 100%|██████████| 921/921 [04:28<00:00,  3.44it/s, loss=0.37, train_acc=0.84]\n",
      "Train (3/10): 100%|██████████| 921/921 [04:30<00:00,  3.41it/s, loss=0.32, train_acc=0.86]\n",
      "Train (4/10): 100%|██████████| 921/921 [04:36<00:00,  3.33it/s, loss=0.30, train_acc=0.87]\n",
      "Train (5/10): 100%|██████████| 921/921 [04:38<00:00,  3.31it/s, loss=0.26, train_acc=0.89]\n",
      "Train (6/10): 100%|██████████| 921/921 [04:39<00:00,  3.30it/s, loss=0.23, train_acc=0.90]\n",
      "Train (7/10): 100%|██████████| 921/921 [04:36<00:00,  3.33it/s, loss=0.17, train_acc=0.93]\n",
      "Train (8/10): 100%|██████████| 921/921 [04:29<00:00,  3.41it/s, loss=0.14, train_acc=0.95]\n",
      "Train (9/10): 100%|██████████| 921/921 [04:23<00:00,  3.49it/s, loss=0.11, train_acc=0.96]\n",
      "Train (10/10): 100%|██████████| 921/921 [04:30<00:00,  3.41it/s, loss=0.09, train_acc=0.97]\n"
     ]
    }
   ],
   "source": [
    "# Train\n",
    "list_loss_epoch = []\n",
    "acc_list = []\n",
    "for epoch in range(max_epochs):\n",
    "    list_loss = []\n",
    "    list_pred = []\n",
    "    list_real = []\n",
    "    # Train\n",
    "    net.train()\n",
    "    pbar = tqdm.tqdm(total = len(dataloaders['train']), desc = f\"Train ({epoch + 1}/{max_epochs})\", position = 0)\n",
    "    for batch in dataloaders['train']:\n",
    "        image = batch[0].to(device)\n",
    "        label = batch[1].to(device)\n",
    "        # set gradient to 0\n",
    "        net.zero_grad()\n",
    "        # feed forward\n",
    "        out = net(image)\n",
    "        # get loss\n",
    "        loss = loss_fn(out, label)\n",
    "        # get gradients\n",
    "        loss.backward()\n",
    "        # update gradient\n",
    "        optimizer.step()\n",
    "        # Save record and report\n",
    "        loss_report = loss.item() # loss.item() returns value of the loss to cpu memory\n",
    "        list_loss.append(loss_report)\n",
    "        pbar.update(1)\n",
    "        pbar.set_postfix({'loss': f\"{np.mean(list_loss):.2f}\"})\n",
    "        list_loss_epoch.append(np.mean(list_loss))\n",
    "        list_pred.extend(torch.argmax(out, dim = 1).cpu().detach().numpy().tolist())\n",
    "        list_real.extend(label.cpu().detach().numpy().tolist())\n",
    "    avg_acc = np.mean(np.array(list_pred) == np.array(list_real))\n",
    "    pbar.set_postfix({'loss': f'{np.mean(list_loss):.2f}', 'train_acc': f'{avg_acc:.2f}'})\n",
    "    pbar.close()\n",
    "    # Validation\n",
    "    net.eval() # net.eval() randomness is dropped from the model\n",
    "    list_loss = []\n",
    "    list_pred = []\n",
    "    list_real = []\n",
    "    \n",
    "    with torch.no_grad():\n",
    "        #set net\n",
    "        \n",
    "        #load data\n",
    "        \n",
    "        #calculate loss\n",
    "        \n",
    "        #collect learning process\n",
    "        \n",
    "        #report\n",
    "        \n",
    "        pass\n",
    "    \n",
    "# At the end of training - you want to get a test score\n",
    "# Performance analysis (F-1 score, Accuracy, confusion matrix...)"
   ]
  },
  {
   "cell_type": "code",
   "execution_count": 13,
   "id": "fd973447",
   "metadata": {
    "execution": {
     "iopub.execute_input": "2023-04-20T22:45:29.095568Z",
     "iopub.status.busy": "2023-04-20T22:45:29.094467Z",
     "iopub.status.idle": "2023-04-20T22:45:29.378284Z",
     "shell.execute_reply": "2023-04-20T22:45:29.377270Z"
    },
    "papermill": {
     "duration": 1.308568,
     "end_time": "2023-04-20T22:45:29.380602",
     "exception": false,
     "start_time": "2023-04-20T22:45:28.072034",
     "status": "completed"
    },
    "tags": []
   },
   "outputs": [
    {
     "data": {
      "image/png": "[encoded data removed]",
      "text/plain": [
       "<Figure size 640x480 with 1 Axes>"
      ]
     },
     "metadata": {},
     "output_type": "display_data"
    }
   ],
   "source": [
    "import matplotlib.pyplot as plt\n",
    "\n",
    "plt.plot(np.array(list_loss_epoch))\n",
    "plt.show()"
   ]
  },
  {
   "cell_type": "code",
   "execution_count": 14,
   "id": "61569d8a",
   "metadata": {
    "execution": {
     "iopub.execute_input": "2023-04-20T22:45:31.471205Z",
     "iopub.status.busy": "2023-04-20T22:45:31.470831Z",
     "iopub.status.idle": "2023-04-20T22:49:04.173461Z",
     "shell.execute_reply": "2023-04-20T22:49:04.171039Z"
    },
    "papermill": {
     "duration": 213.824242,
     "end_time": "2023-04-20T22:49:04.175687",
     "exception": false,
     "start_time": "2023-04-20T22:45:30.351445",
     "status": "completed"
    },
    "tags": []
   },
   "outputs": [
    {
     "name": "stderr",
     "output_type": "stream",
     "text": [
      "test:: 921it [03:32,  4.33it/s]"
     ]
    },
    {
     "name": "stdout",
     "output_type": "stream",
     "text": [
      "0.9804507195221287\n"
     ]
    },
    {
     "name": "stderr",
     "output_type": "stream",
     "text": [
      "\n"
     ]
    }
   ],
   "source": [
    "test_list_pred=[]\n",
    "test_list_real=[]\n",
    "\n",
    "pbar = tqdm.tqdm(total = len(dataloaders['test']), position = 0, desc = f\"test:\")\n",
    "\n",
    "#Testing Section\n",
    "\n",
    "with torch.no_grad():\n",
    "    for batch in dataloaders['train']:        #testing loop\n",
    "        #plug and chug section\n",
    "        image = batch[0].to(device)\n",
    "        label = batch[1].to(device)\n",
    "        out = net(image)\n",
    "        #collect accuracy \n",
    "        test_list_pred.append(torch.argmax(out, dim = 1).cpu().detach().numpy().tolist())   #ValueError: zero-dimensional arrays cannot be concatenated\n",
    "        test_list_real.append(label.cpu().detach().numpy().tolist())\n",
    "        \n",
    "        pbar.update(1)\n",
    "        \n",
    "pbar.close()\n",
    "test_list_pred = np.concatenate(test_list_pred)\n",
    "test_list_real = np.concatenate(test_list_real)\n",
    "simple_acc = (test_list_pred == test_list_real).mean()\n",
    "print(simple_acc)\n",
    "\n",
    "        \n",
    "        "
   ]
  },
  {
   "cell_type": "code",
   "execution_count": 15,
   "id": "79fe93e9",
   "metadata": {
    "execution": {
     "iopub.execute_input": "2023-04-20T22:49:06.255263Z",
     "iopub.status.busy": "2023-04-20T22:49:06.254879Z",
     "iopub.status.idle": "2023-04-20T22:49:07.917395Z",
     "shell.execute_reply": "2023-04-20T22:49:07.916340Z"
    },
    "papermill": {
     "duration": 2.681722,
     "end_time": "2023-04-20T22:49:07.920166",
     "exception": false,
     "start_time": "2023-04-20T22:49:05.238444",
     "status": "completed"
    },
    "tags": []
   },
   "outputs": [],
   "source": [
    "from sklearn.metrics import confusion_matrix\n"
   ]
  }
 ],
 "metadata": {
  "kernelspec": {
   "display_name": "Python 3",
   "language": "python",
   "name": "python3"
  },
  "language_info": {
   "codemirror_mode": {
    "name": "ipython",
    "version": 3
   },
   "file_extension": ".py",
   "mimetype": "text/x-python",
   "name": "python",
   "nbconvert_exporter": "python",
   "pygments_lexer": "ipython3",
   "version": "3.7.12"
  },
  "papermill": {
   "default_parameters": {},
   "duration": 3072.566176,
   "end_time": "2023-04-20T22:49:11.910487",
   "environment_variables": {},
   "exception": null,
   "input_path": "__notebook__.ipynb",
   "output_path": "__notebook__.ipynb",
   "parameters": {},
   "start_time": "2023-04-20T21:57:59.344311",
   "version": "2.4.0"
  },
  "widgets": {
   "application/vnd.jupyter.widget-state+json": {
    "state": {
     "07c74f87d1aa40f592b1b472e79078c9": {
      "model_module": "@jupyter-widgets/controls",
      "model_module_version": "1.5.0",
      "model_name": "HTMLModel",
      "state": {
       "_dom_classes": [],
       "_model_module": "@jupyter-widgets/controls",
       "_model_module_version": "1.5.0",
       "_model_name": "HTMLModel",
       "_view_count": null,
       "_view_module": "@jupyter-widgets/controls",
       "_view_module_version": "1.5.0",
       "_view_name": "HTMLView",
       "description": "",
       "description_tooltip": null,
       "layout": "IPY_MODEL_60702f0135194c61bad201661222580c",
       "placeholder": "​",
       "style": "IPY_MODEL_b332123c0349451094bf90c3332645d0",
       "value": "100%"
      }
     },
     "2c0f8736e6574e62b5b23d9864689624": {
      "model_module": "@jupyter-widgets/controls",
      "model_module_version": "1.5.0",
      "model_name": "FloatProgressModel",
      "state": {
       "_dom_classes": [],
       "_model_module": "@jupyter-widgets/controls",
       "_model_module_version": "1.5.0",
       "_model_name": "FloatProgressModel",
       "_view_count": null,
       "_view_module": "@jupyter-widgets/controls",
       "_view_module_version": "1.5.0",
       "_view_name": "ProgressView",
       "bar_style": "success",
       "description": "",
       "description_tooltip": null,
       "layout": "IPY_MODEL_3b6bc4177e2146399838e6a523819052",
       "max": 553433881.0,
       "min": 0.0,
       "orientation": "horizontal",
       "style": "IPY_MODEL_e77d591ae6cf4982847f02cb5c9c349d",
       "value": 553433881.0
      }
     },
     "3b6bc4177e2146399838e6a523819052": {
      "model_module": "@jupyter-widgets/base",
      "model_module_version": "1.2.0",
      "model_name": "LayoutModel",
      "state": {
       "_model_module": "@jupyter-widgets/base",
       "_model_module_version": "1.2.0",
       "_model_name": "LayoutModel",
       "_view_count": null,
       "_view_module": "@jupyter-widgets/base",
       "_view_module_version": "1.2.0",
       "_view_name": "LayoutView",
       "align_content": null,
       "align_items": null,
       "align_self": null,
       "border": null,
       "bottom": null,
       "display": null,
       "flex": null,
       "flex_flow": null,
       "grid_area": null,
       "grid_auto_columns": null,
       "grid_auto_flow": null,
       "grid_auto_rows": null,
       "grid_column": null,
       "grid_gap": null,
       "grid_row": null,
       "grid_template_areas": null,
       "grid_template_columns": null,
       "grid_template_rows": null,
       "height": null,
       "justify_content": null,
       "justify_items": null,
       "left": null,
       "margin": null,
       "max_height": null,
       "max_width": null,
       "min_height": null,
       "min_width": null,
       "object_fit": null,
       "object_position": null,
       "order": null,
       "overflow": null,
       "overflow_x": null,
       "overflow_y": null,
       "padding": null,
       "right": null,
       "top": null,
       "visibility": null,
       "width": null
      }
     },
     "4f63941be31640ea875d25fa40d05cbd": {
      "model_module": "@jupyter-widgets/base",
      "model_module_version": "1.2.0",
      "model_name": "LayoutModel",
      "state": {
       "_model_module": "@jupyter-widgets/base",
       "_model_module_version": "1.2.0",
       "_model_name": "LayoutModel",
       "_view_count": null,
       "_view_module": "@jupyter-widgets/base",
       "_view_module_version": "1.2.0",
       "_view_name": "LayoutView",
       "align_content": null,
       "align_items": null,
       "align_self": null,
       "border": null,
       "bottom": null,
       "display": null,
       "flex": null,
       "flex_flow": null,
       "grid_area": null,
       "grid_auto_columns": null,
       "grid_auto_flow": null,
       "grid_auto_rows": null,
       "grid_column": null,
       "grid_gap": null,
       "grid_row": null,
       "grid_template_areas": null,
       "grid_template_columns": null,
       "grid_template_rows": null,
       "height": null,
       "justify_content": null,
       "justify_items": null,
       "left": null,
       "margin": null,
       "max_height": null,
       "max_width": null,
       "min_height": null,
       "min_width": null,
       "object_fit": null,
       "object_position": null,
       "order": null,
       "overflow": null,
       "overflow_x": null,
       "overflow_y": null,
       "padding": null,
       "right": null,
       "top": null,
       "visibility": null,
       "width": null
      }
     },
     "60702f0135194c61bad201661222580c": {
      "model_module": "@jupyter-widgets/base",
      "model_module_version": "1.2.0",
      "model_name": "LayoutModel",
      "state": {
       "_model_module": "@jupyter-widgets/base",
       "_model_module_version": "1.2.0",
       "_model_name": "LayoutModel",
       "_view_count": null,
       "_view_module": "@jupyter-widgets/base",
       "_view_module_version": "1.2.0",
       "_view_name": "LayoutView",
       "align_content": null,
       "align_items": null,
       "align_self": null,
       "border": null,
       "bottom": null,
       "display": null,
       "flex": null,
       "flex_flow": null,
       "grid_area": null,
       "grid_auto_columns": null,
       "grid_auto_flow": null,
       "grid_auto_rows": null,
       "grid_column": null,
       "grid_gap": null,
       "grid_row": null,
       "grid_template_areas": null,
       "grid_template_columns": null,
       "grid_template_rows": null,
       "height": null,
       "justify_content": null,
       "justify_items": null,
       "left": null,
       "margin": null,
       "max_height": null,
       "max_width": null,
       "min_height": null,
       "min_width": null,
       "object_fit": null,
       "object_position": null,
       "order": null,
       "overflow": null,
       "overflow_x": null,
       "overflow_y": null,
       "padding": null,
       "right": null,
       "top": null,
       "visibility": null,
       "width": null
      }
     },
     "69dc9813b94f46f7aaa664a0cf7fa72b": {
      "model_module": "@jupyter-widgets/controls",
      "model_module_version": "1.5.0",
      "model_name": "HTMLModel",
      "state": {
       "_dom_classes": [],
       "_model_module": "@jupyter-widgets/controls",
       "_model_module_version": "1.5.0",
       "_model_name": "HTMLModel",
       "_view_count": null,
       "_view_module": "@jupyter-widgets/controls",
       "_view_module_version": "1.5.0",
       "_view_name": "HTMLView",
       "description": "",
       "description_tooltip": null,
       "layout": "IPY_MODEL_4f63941be31640ea875d25fa40d05cbd",
       "placeholder": "​",
       "style": "IPY_MODEL_fc91189fd7944af28db2b830b7f5101d",
       "value": " 528M/528M [00:02&lt;00:00, 262MB/s]"
      }
     },
     "ad3ba5e9b0374906bd94c2c54c0448d4": {
      "model_module": "@jupyter-widgets/controls",
      "model_module_version": "1.5.0",
      "model_name": "HBoxModel",
      "state": {
       "_dom_classes": [],
       "_model_module": "@jupyter-widgets/controls",
       "_model_module_version": "1.5.0",
       "_model_name": "HBoxModel",
       "_view_count": null,
       "_view_module": "@jupyter-widgets/controls",
       "_view_module_version": "1.5.0",
       "_view_name": "HBoxView",
       "box_style": "",
       "children": [
        "IPY_MODEL_07c74f87d1aa40f592b1b472e79078c9",
        "IPY_MODEL_2c0f8736e6574e62b5b23d9864689624",
        "IPY_MODEL_69dc9813b94f46f7aaa664a0cf7fa72b"
       ],
       "layout": "IPY_MODEL_cc211fdaad444c1e99a77ce0fb09028b"
      }
     },
     "b332123c0349451094bf90c3332645d0": {
      "model_module": "@jupyter-widgets/controls",
      "model_module_version": "1.5.0",
      "model_name": "DescriptionStyleModel",
      "state": {
       "_model_module": "@jupyter-widgets/controls",
       "_model_module_version": "1.5.0",
       "_model_name": "DescriptionStyleModel",
       "_view_count": null,
       "_view_module": "@jupyter-widgets/base",
       "_view_module_version": "1.2.0",
       "_view_name": "StyleView",
       "description_width": ""
      }
     },
     "cc211fdaad444c1e99a77ce0fb09028b": {
      "model_module": "@jupyter-widgets/base",
      "model_module_version": "1.2.0",
      "model_name": "LayoutModel",
      "state": {
       "_model_module": "@jupyter-widgets/base",
       "_model_module_version": "1.2.0",
       "_model_name": "LayoutModel",
       "_view_count": null,
       "_view_module": "@jupyter-widgets/base",
       "_view_module_version": "1.2.0",
       "_view_name": "LayoutView",
       "align_content": null,
       "align_items": null,
       "align_self": null,
       "border": null,
       "bottom": null,
       "display": null,
       "flex": null,
       "flex_flow": null,
       "grid_area": null,
       "grid_auto_columns": null,
       "grid_auto_flow": null,
       "grid_auto_rows": null,
       "grid_column": null,
       "grid_gap": null,
       "grid_row": null,
       "grid_template_areas": null,
       "grid_template_columns": null,
       "grid_template_rows": null,
       "height": null,
       "justify_content": null,
       "justify_items": null,
       "left": null,
       "margin": null,
       "max_height": null,
       "max_width": null,
       "min_height": null,
       "min_width": null,
       "object_fit": null,
       "object_position": null,
       "order": null,
       "overflow": null,
       "overflow_x": null,
       "overflow_y": null,
       "padding": null,
       "right": null,
       "top": null,
       "visibility": null,
       "width": null
      }
     },
     "e77d591ae6cf4982847f02cb5c9c349d": {
      "model_module": "@jupyter-widgets/controls",
      "model_module_version": "1.5.0",
      "model_name": "ProgressStyleModel",
      "state": {
       "_model_module": "@jupyter-widgets/controls",
       "_model_module_version": "1.5.0",
       "_model_name": "ProgressStyleModel",
       "_view_count": null,
       "_view_module": "@jupyter-widgets/base",
       "_view_module_version": "1.2.0",
       "_view_name": "StyleView",
       "bar_color": null,
       "description_width": ""
      }
     },
     "fc91189fd7944af28db2b830b7f5101d": {
      "model_module": "@jupyter-widgets/controls",
      "model_module_version": "1.5.0",
      "model_name": "DescriptionStyleModel",
      "state": {
       "_model_module": "@jupyter-widgets/controls",
       "_model_module_version": "1.5.0",
       "_model_name": "DescriptionStyleModel",
       "_view_count": null,
       "_view_module": "@jupyter-widgets/base",
       "_view_module_version": "1.2.0",
       "_view_name": "StyleView",
       "description_width": ""
      }
     }
    },
    "version_major": 2,
    "version_minor": 0
   }
  }
 },
 "nbformat": 4,
 "nbformat_minor": 5
}
